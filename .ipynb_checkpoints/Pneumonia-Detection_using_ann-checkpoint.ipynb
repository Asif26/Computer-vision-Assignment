{
 "cells": [
  {
   "cell_type": "code",
   "execution_count": 1,
   "metadata": {},
   "outputs": [],
   "source": [
    "import numpy as np\n",
    "import pandas as pd\n",
    "import matplotlib.pyplot as plt \n",
    "import tensorflow as tf \n",
    "import os, shutil"
   ]
  },
  {
   "cell_type": "code",
   "execution_count": 2,
   "metadata": {},
   "outputs": [],
   "source": [
    "original_dataset_dir = \"/OneDrive/Desktop/chest_X-ray\""
   ]
  },
  {
   "cell_type": "code",
   "execution_count": 3,
   "metadata": {},
   "outputs": [],
   "source": [
    "base_dir =  \"Normal_and_Pneumonia\"\n"
   ]
  },
  {
   "cell_type": "code",
   "execution_count": 7,
   "metadata": {},
   "outputs": [],
   "source": [
    "# Directories for the training, validation, and test splits\n",
    "\n",
    "train_dir = os.path.join(base_dir, 'train')\n",
    "\n",
    "\n",
    "validation_dir = os.path.join(base_dir, 'validation')\n",
    "\n",
    "\n",
    "test_dir = os.path.join(base_dir, 'test')\n"
   ]
  },
  {
   "cell_type": "code",
   "execution_count": 10,
   "metadata": {},
   "outputs": [],
   "source": [
    "# Directory with training  pictures\n",
    "\n",
    "\n",
    "train_Normal_dir = os.path.join(train_dir, 'Normal')\n",
    "train_Pneumonia_dir = os.path.join(train_dir, 'Pneumonia')\n",
    "validation_Normal_dir = os.path.join(validation_dir, 'Normal')\n",
    "validation_Pneumonia_dir = os.path.join(validation_dir, 'Pneumonia')\n",
    "test_Normal_dir = os.path.join(test_dir, 'Normal')\n",
    "test_Pneumonia_dir = os.path.join(test_dir, 'Pneumonia')"
   ]
  },
  {
   "cell_type": "code",
   "execution_count": 4,
   "metadata": {},
   "outputs": [],
   "source": [
    "# import model and layres\n",
    "from keras import layers\n",
    "from keras import models\n",
    "\n",
    "model = models.Sequential()\n",
    "model.add(layers.Dense(512, activation='relu', input_shape=(150,150,3)))\n",
    "model.add(layers.Flatten())\n",
    "model.add(layers.Dense(1, activation='sigmoid'))"
   ]
  },
  {
   "cell_type": "code",
   "execution_count": 19,
   "metadata": {},
   "outputs": [
    {
     "name": "stdout",
     "output_type": "stream",
     "text": [
      "Model: \"sequential_3\"\n",
      "_________________________________________________________________\n",
      "Layer (type)                 Output Shape              Param #   \n",
      "=================================================================\n",
      "dense_5 (Dense)              (None, 150, 150, 512)     2048      \n",
      "_________________________________________________________________\n",
      "flatten_3 (Flatten)          (None, 11520000)          0         \n",
      "_________________________________________________________________\n",
      "dense_6 (Dense)              (None, 1)                 11520001  \n",
      "=================================================================\n",
      "Total params: 11,522,049\n",
      "Trainable params: 11,522,049\n",
      "Non-trainable params: 0\n",
      "_________________________________________________________________\n"
     ]
    }
   ],
   "source": [
    "model.summary()"
   ]
  },
  {
   "cell_type": "code",
   "execution_count": 5,
   "metadata": {},
   "outputs": [],
   "source": [
    "# compile\n",
    "from keras import optimizers\n",
    "\n",
    "model.compile(loss='binary_crossentropy',\n",
    "              optimizer=optimizers.RMSprop(lr=1e-4),\n",
    "              metrics=['acc'])"
   ]
  },
  {
   "cell_type": "code",
   "execution_count": 11,
   "metadata": {},
   "outputs": [
    {
     "name": "stdout",
     "output_type": "stream",
     "text": [
      "Found 5216 images belonging to 3 classes.\n",
      "Found 1000 images belonging to 2 classes.\n"
     ]
    }
   ],
   "source": [
    "# Data Processing\n",
    "from keras.preprocessing.image import ImageDataGenerator\n",
    "\n",
    "train_datagen = ImageDataGenerator(rescale=1./255)\n",
    "test_datagen = ImageDataGenerator(rescale=1./255)\n",
    "\n",
    "train_generator = train_datagen.flow_from_directory(\n",
    "        train_dir,\n",
    "        target_size=(150, 150),\n",
    "        batch_size=20,\n",
    "        class_mode='binary')\n",
    "\n",
    "\n",
    "validation_generator = test_datagen.flow_from_directory(\n",
    "        validation_dir,\n",
    "         target_size=(150, 150),\n",
    "         batch_size=20,\n",
    "         class_mode='binary')"
   ]
  },
  {
   "cell_type": "code",
   "execution_count": 12,
   "metadata": {},
   "outputs": [
    {
     "name": "stdout",
     "output_type": "stream",
     "text": [
      "WARNING:tensorflow:From <ipython-input-12-22bf040ec9b4>:1: Model.fit_generator (from tensorflow.python.keras.engine.training) is deprecated and will be removed in a future version.\n",
      "Instructions for updating:\n",
      "Please use Model.fit, which supports generators.\n",
      "Epoch 1/100\n",
      "100/100 [==============================] - 236s 2s/step - loss: 2.5463 - acc: 0.7125 - val_loss: 0.3074 - val_acc: 0.8850\n",
      "Epoch 2/100\n",
      "100/100 [==============================] - 205s 2s/step - loss: 1.0690 - acc: 0.8070 - val_loss: 0.3731 - val_acc: 0.8670\n",
      "Epoch 3/100\n",
      "100/100 [==============================] - 191s 2s/step - loss: 0.5640 - acc: 0.8677 - val_loss: 0.1873 - val_acc: 0.9370\n",
      "Epoch 4/100\n",
      "100/100 [==============================] - 200s 2s/step - loss: 0.3769 - acc: 0.8958 - val_loss: 0.3774 - val_acc: 0.8500\n",
      "Epoch 5/100\n",
      "100/100 [==============================] - 191s 2s/step - loss: 0.2781 - acc: 0.9190 - val_loss: 0.1707 - val_acc: 0.9330\n",
      "Epoch 6/100\n",
      "100/100 [==============================] - 192s 2s/step - loss: 0.2248 - acc: 0.9259 - val_loss: 0.2459 - val_acc: 0.8910\n",
      "Epoch 7/100\n",
      "100/100 [==============================] - 192s 2s/step - loss: 0.1992 - acc: 0.9290 - val_loss: 0.5057 - val_acc: 0.7780\n",
      "Epoch 8/100\n",
      "100/100 [==============================] - 191s 2s/step - loss: 0.1468 - acc: 0.9489 - val_loss: 0.1141 - val_acc: 0.9660\n",
      "Epoch 9/100\n",
      "100/100 [==============================] - 191s 2s/step - loss: 0.1608 - acc: 0.9395 - val_loss: 0.1206 - val_acc: 0.9630\n",
      "Epoch 10/100\n",
      "100/100 [==============================] - 191s 2s/step - loss: 0.1268 - acc: 0.9500 - val_loss: 0.1042 - val_acc: 0.9660\n",
      "Epoch 11/100\n",
      "100/100 [==============================] - 195s 2s/step - loss: 0.1368 - acc: 0.9530 - val_loss: 0.2051 - val_acc: 0.9120\n",
      "Epoch 12/100\n",
      "100/100 [==============================] - 192s 2s/step - loss: 0.1290 - acc: 0.9569 - val_loss: 0.1047 - val_acc: 0.9670\n",
      "Epoch 13/100\n",
      "100/100 [==============================] - 195s 2s/step - loss: 0.1044 - acc: 0.9605 - val_loss: 0.0945 - val_acc: 0.9700\n",
      "Epoch 14/100\n",
      "100/100 [==============================] - 193s 2s/step - loss: 0.1027 - acc: 0.9654 - val_loss: 0.1514 - val_acc: 0.9330\n",
      "Epoch 15/100\n",
      "100/100 [==============================] - 194s 2s/step - loss: 0.1054 - acc: 0.9615 - val_loss: 0.1108 - val_acc: 0.9600\n",
      "Epoch 16/100\n",
      "100/100 [==============================] - 193s 2s/step - loss: 0.0925 - acc: 0.9669 - val_loss: 0.0890 - val_acc: 0.9700\n",
      "Epoch 17/100\n",
      "100/100 [==============================] - 194s 2s/step - loss: 0.0917 - acc: 0.9675 - val_loss: 0.0802 - val_acc: 0.9730\n",
      "Epoch 18/100\n",
      "100/100 [==============================] - 193s 2s/step - loss: 0.0786 - acc: 0.9704 - val_loss: 0.0979 - val_acc: 0.9590\n",
      "Epoch 19/100\n",
      "100/100 [==============================] - 194s 2s/step - loss: 0.1048 - acc: 0.9655 - val_loss: 0.0897 - val_acc: 0.9660\n",
      "Epoch 20/100\n",
      "100/100 [==============================] - 193s 2s/step - loss: 0.0852 - acc: 0.9665 - val_loss: 0.1106 - val_acc: 0.9660\n",
      "Epoch 21/100\n",
      "100/100 [==============================] - 193s 2s/step - loss: 0.0834 - acc: 0.9684 - val_loss: 0.2014 - val_acc: 0.9230\n",
      "Epoch 22/100\n",
      "100/100 [==============================] - 194s 2s/step - loss: 0.0691 - acc: 0.9725 - val_loss: 0.1003 - val_acc: 0.9570\n",
      "Epoch 23/100\n",
      "100/100 [==============================] - 193s 2s/step - loss: 0.0679 - acc: 0.9765 - val_loss: 0.0681 - val_acc: 0.9750\n",
      "Epoch 24/100\n",
      "100/100 [==============================] - 193s 2s/step - loss: 0.0786 - acc: 0.9730 - val_loss: 0.1002 - val_acc: 0.9580\n",
      "Epoch 25/100\n",
      "100/100 [==============================] - 193s 2s/step - loss: 0.0596 - acc: 0.9785 - val_loss: 0.0750 - val_acc: 0.9740\n",
      "Epoch 26/100\n",
      "100/100 [==============================] - 194s 2s/step - loss: 0.0689 - acc: 0.9740 - val_loss: 0.0613 - val_acc: 0.9760\n",
      "Epoch 27/100\n",
      "100/100 [==============================] - 193s 2s/step - loss: 0.0701 - acc: 0.9749 - val_loss: 0.0608 - val_acc: 0.9780\n",
      "Epoch 28/100\n",
      "100/100 [==============================] - 194s 2s/step - loss: 0.0646 - acc: 0.9780 - val_loss: 0.0644 - val_acc: 0.9760\n",
      "Epoch 29/100\n",
      "100/100 [==============================] - 193s 2s/step - loss: 0.0667 - acc: 0.9734 - val_loss: 0.1043 - val_acc: 0.9650\n",
      "Epoch 30/100\n",
      "100/100 [==============================] - 193s 2s/step - loss: 0.0627 - acc: 0.9785 - val_loss: 0.0755 - val_acc: 0.9750\n",
      "Epoch 31/100\n",
      "100/100 [==============================] - 195s 2s/step - loss: 0.0628 - acc: 0.9765 - val_loss: 0.0598 - val_acc: 0.9790\n",
      "Epoch 32/100\n",
      "100/100 [==============================] - 13765s 138s/step - loss: 0.0574 - acc: 0.9810 - val_loss: 0.0589 - val_acc: 0.9780\n",
      "Epoch 33/100\n",
      "100/100 [==============================] - 193s 2s/step - loss: 0.0486 - acc: 0.9840 - val_loss: 0.0498 - val_acc: 0.9830\n",
      "Epoch 34/100\n",
      "100/100 [==============================] - 197s 2s/step - loss: 0.0384 - acc: 0.9845 - val_loss: 0.0836 - val_acc: 0.9700\n",
      "Epoch 35/100\n",
      "100/100 [==============================] - 196s 2s/step - loss: 0.0563 - acc: 0.9785 - val_loss: 0.0686 - val_acc: 0.9660\n",
      "Epoch 36/100\n",
      "100/100 [==============================] - 194s 2s/step - loss: 0.0479 - acc: 0.9780 - val_loss: 0.1050 - val_acc: 0.9580\n",
      "Epoch 37/100\n",
      "100/100 [==============================] - 193s 2s/step - loss: 0.0368 - acc: 0.9845 - val_loss: 0.1255 - val_acc: 0.9500\n",
      "Epoch 38/100\n",
      "100/100 [==============================] - 194s 2s/step - loss: 0.0426 - acc: 0.9840 - val_loss: 0.0695 - val_acc: 0.9720\n",
      "Epoch 39/100\n",
      "100/100 [==============================] - 194s 2s/step - loss: 0.0474 - acc: 0.9825 - val_loss: 0.0416 - val_acc: 0.9850\n",
      "Epoch 40/100\n",
      "100/100 [==============================] - 194s 2s/step - loss: 0.0468 - acc: 0.9805 - val_loss: 0.0621 - val_acc: 0.9770\n",
      "Epoch 41/100\n",
      "100/100 [==============================] - 194s 2s/step - loss: 0.0519 - acc: 0.9845 - val_loss: 0.1862 - val_acc: 0.9360\n",
      "Epoch 42/100\n",
      "100/100 [==============================] - 193s 2s/step - loss: 0.0294 - acc: 0.9900 - val_loss: 0.0930 - val_acc: 0.9650\n",
      "Epoch 43/100\n",
      "100/100 [==============================] - 193s 2s/step - loss: 0.0457 - acc: 0.9860 - val_loss: 0.0407 - val_acc: 0.9860\n",
      "Epoch 44/100\n",
      "100/100 [==============================] - 194s 2s/step - loss: 0.0344 - acc: 0.9900 - val_loss: 0.0335 - val_acc: 0.9850\n",
      "Epoch 45/100\n",
      "100/100 [==============================] - 194s 2s/step - loss: 0.0366 - acc: 0.9885 - val_loss: 0.0371 - val_acc: 0.9880\n",
      "Epoch 46/100\n",
      "100/100 [==============================] - 194s 2s/step - loss: 0.0308 - acc: 0.9890 - val_loss: 0.1213 - val_acc: 0.9620\n",
      "Epoch 47/100\n",
      "100/100 [==============================] - 194s 2s/step - loss: 0.0356 - acc: 0.9860 - val_loss: 0.1584 - val_acc: 0.9340\n",
      "Epoch 48/100\n",
      "100/100 [==============================] - 194s 2s/step - loss: 0.0339 - acc: 0.9865 - val_loss: 0.0509 - val_acc: 0.9830\n",
      "Epoch 49/100\n",
      "100/100 [==============================] - 194s 2s/step - loss: 0.0293 - acc: 0.9895 - val_loss: 0.0283 - val_acc: 0.9900\n",
      "Epoch 50/100\n",
      "100/100 [==============================] - 194s 2s/step - loss: 0.0375 - acc: 0.9880 - val_loss: 0.0418 - val_acc: 0.9880\n",
      "Epoch 51/100\n",
      "100/100 [==============================] - 194s 2s/step - loss: 0.0308 - acc: 0.9880 - val_loss: 0.0298 - val_acc: 0.9870\n",
      "Epoch 52/100\n",
      "100/100 [==============================] - 193s 2s/step - loss: 0.0244 - acc: 0.9940 - val_loss: 0.0617 - val_acc: 0.9780\n",
      "Epoch 53/100\n",
      "100/100 [==============================] - 194s 2s/step - loss: 0.0300 - acc: 0.9885 - val_loss: 0.0229 - val_acc: 0.9910\n",
      "Epoch 54/100\n",
      "100/100 [==============================] - 195s 2s/step - loss: 0.0245 - acc: 0.9900 - val_loss: 0.0277 - val_acc: 0.9890\n",
      "Epoch 55/100\n",
      "100/100 [==============================] - 193s 2s/step - loss: 0.0241 - acc: 0.9910 - val_loss: 0.0317 - val_acc: 0.9880\n",
      "Epoch 56/100\n",
      "100/100 [==============================] - 193s 2s/step - loss: 0.0327 - acc: 0.9880 - val_loss: 0.0213 - val_acc: 0.9930\n",
      "Epoch 57/100\n",
      "100/100 [==============================] - 193s 2s/step - loss: 0.0223 - acc: 0.9920 - val_loss: 0.0685 - val_acc: 0.9780\n",
      "Epoch 58/100\n",
      "100/100 [==============================] - 195s 2s/step - loss: 0.0249 - acc: 0.9930 - val_loss: 0.0194 - val_acc: 0.9950\n",
      "Epoch 59/100\n",
      "100/100 [==============================] - 195s 2s/step - loss: 0.0223 - acc: 0.9930 - val_loss: 0.0204 - val_acc: 0.9930\n"
     ]
    },
    {
     "name": "stdout",
     "output_type": "stream",
     "text": [
      "Epoch 60/100\n",
      "100/100 [==============================] - 193s 2s/step - loss: 0.0242 - acc: 0.9915 - val_loss: 0.0408 - val_acc: 0.9850\n",
      "Epoch 61/100\n",
      "100/100 [==============================] - 193s 2s/step - loss: 0.0163 - acc: 0.9960 - val_loss: 0.0340 - val_acc: 0.9900\n",
      "Epoch 62/100\n",
      "100/100 [==============================] - 193s 2s/step - loss: 0.0227 - acc: 0.9925 - val_loss: 0.0179 - val_acc: 0.9950\n",
      "Epoch 63/100\n",
      "100/100 [==============================] - 194s 2s/step - loss: 0.0237 - acc: 0.9915 - val_loss: 0.0273 - val_acc: 0.9900\n",
      "Epoch 64/100\n",
      "100/100 [==============================] - 194s 2s/step - loss: 0.0193 - acc: 0.9950 - val_loss: 0.0162 - val_acc: 0.9940\n",
      "Epoch 65/100\n",
      "100/100 [==============================] - 199s 2s/step - loss: 0.0191 - acc: 0.9950 - val_loss: 0.0151 - val_acc: 0.9950\n",
      "Epoch 66/100\n",
      "100/100 [==============================] - 225s 2s/step - loss: 0.0223 - acc: 0.9945 - val_loss: 0.0402 - val_acc: 0.9880\n",
      "Epoch 67/100\n",
      "100/100 [==============================] - 213s 2s/step - loss: 0.0188 - acc: 0.9920 - val_loss: 0.0330 - val_acc: 0.9900\n",
      "Epoch 68/100\n",
      "100/100 [==============================] - 205s 2s/step - loss: 0.0225 - acc: 0.9920 - val_loss: 0.0167 - val_acc: 0.9940\n",
      "Epoch 69/100\n",
      "100/100 [==============================] - 207s 2s/step - loss: 0.0128 - acc: 0.9980 - val_loss: 0.0335 - val_acc: 0.9890\n",
      "Epoch 70/100\n",
      "100/100 [==============================] - 210s 2s/step - loss: 0.0140 - acc: 0.9960 - val_loss: 0.0539 - val_acc: 0.9800\n",
      "Epoch 71/100\n",
      "100/100 [==============================] - 209s 2s/step - loss: 0.0147 - acc: 0.9935 - val_loss: 0.0674 - val_acc: 0.9730\n",
      "Epoch 72/100\n",
      "100/100 [==============================] - 207s 2s/step - loss: 0.0166 - acc: 0.9950 - val_loss: 0.0372 - val_acc: 0.9900\n",
      "Epoch 73/100\n",
      "100/100 [==============================] - 206s 2s/step - loss: 0.0151 - acc: 0.9955 - val_loss: 0.0524 - val_acc: 0.9770\n",
      "Epoch 74/100\n",
      "100/100 [==============================] - 208s 2s/step - loss: 0.0137 - acc: 0.9970 - val_loss: 0.0313 - val_acc: 0.9860\n",
      "Epoch 75/100\n",
      "100/100 [==============================] - 212s 2s/step - loss: 0.0146 - acc: 0.9940 - val_loss: 0.0128 - val_acc: 0.9940\n",
      "Epoch 76/100\n",
      "100/100 [==============================] - 215s 2s/step - loss: 0.0148 - acc: 0.9950 - val_loss: 0.0264 - val_acc: 0.9950\n",
      "Epoch 77/100\n",
      "100/100 [==============================] - 208s 2s/step - loss: 0.0141 - acc: 0.9965 - val_loss: 0.0256 - val_acc: 0.9950\n",
      "Epoch 78/100\n",
      "100/100 [==============================] - 208s 2s/step - loss: 0.0152 - acc: 0.9940 - val_loss: 0.0146 - val_acc: 0.9960\n",
      "Epoch 79/100\n",
      "100/100 [==============================] - 208s 2s/step - loss: 0.0099 - acc: 0.9965 - val_loss: 0.0113 - val_acc: 0.9960\n",
      "Epoch 80/100\n",
      "100/100 [==============================] - 208s 2s/step - loss: 0.0130 - acc: 0.9960 - val_loss: 0.0227 - val_acc: 0.9960\n",
      "Epoch 81/100\n",
      "100/100 [==============================] - 209s 2s/step - loss: 0.0090 - acc: 0.9970 - val_loss: 0.0181 - val_acc: 0.9960\n",
      "Epoch 82/100\n",
      "100/100 [==============================] - 204s 2s/step - loss: 0.0148 - acc: 0.9955 - val_loss: 0.0163 - val_acc: 0.9960\n",
      "Epoch 83/100\n",
      "100/100 [==============================] - 197s 2s/step - loss: 0.0116 - acc: 0.9975 - val_loss: 0.0109 - val_acc: 0.9960\n",
      "Epoch 84/100\n",
      "100/100 [==============================] - 196s 2s/step - loss: 0.0050 - acc: 0.9990 - val_loss: 0.0184 - val_acc: 0.9940\n",
      "Epoch 85/100\n",
      "100/100 [==============================] - 196s 2s/step - loss: 0.0094 - acc: 0.9965 - val_loss: 0.0139 - val_acc: 0.9960\n",
      "Epoch 86/100\n",
      "100/100 [==============================] - 198s 2s/step - loss: 0.0100 - acc: 0.9980 - val_loss: 0.0093 - val_acc: 0.9960\n",
      "Epoch 87/100\n",
      "100/100 [==============================] - 196s 2s/step - loss: 0.0079 - acc: 0.9970 - val_loss: 0.0090 - val_acc: 0.9960\n",
      "Epoch 88/100\n",
      "100/100 [==============================] - 199s 2s/step - loss: 0.0143 - acc: 0.9960 - val_loss: 0.0129 - val_acc: 0.9960\n",
      "Epoch 89/100\n",
      "100/100 [==============================] - 198s 2s/step - loss: 0.0103 - acc: 0.9975 - val_loss: 0.0130 - val_acc: 0.9960\n",
      "Epoch 90/100\n",
      "100/100 [==============================] - 197s 2s/step - loss: 0.0079 - acc: 0.9970 - val_loss: 0.0177 - val_acc: 0.9950\n",
      "Epoch 91/100\n",
      "100/100 [==============================] - 196s 2s/step - loss: 0.0087 - acc: 0.9965 - val_loss: 0.0097 - val_acc: 0.9960\n",
      "Epoch 92/100\n",
      "100/100 [==============================] - 196s 2s/step - loss: 0.0058 - acc: 0.9990 - val_loss: 0.0107 - val_acc: 0.9960\n",
      "Epoch 93/100\n",
      "100/100 [==============================] - 196s 2s/step - loss: 0.0102 - acc: 0.9965 - val_loss: 0.0163 - val_acc: 0.9950\n",
      "Epoch 94/100\n",
      "100/100 [==============================] - 196s 2s/step - loss: 0.0072 - acc: 0.9980 - val_loss: 0.0168 - val_acc: 0.9960\n",
      "Epoch 95/100\n",
      "100/100 [==============================] - 196s 2s/step - loss: 0.0050 - acc: 0.9980 - val_loss: 0.0111 - val_acc: 0.9960\n",
      "Epoch 96/100\n",
      "100/100 [==============================] - 197s 2s/step - loss: 0.0084 - acc: 0.9975 - val_loss: 0.0093 - val_acc: 0.9960\n",
      "Epoch 97/100\n",
      "100/100 [==============================] - 205s 2s/step - loss: 0.0067 - acc: 0.9970 - val_loss: 0.0206 - val_acc: 0.9950\n",
      "Epoch 98/100\n",
      "100/100 [==============================] - 208s 2s/step - loss: 0.0112 - acc: 0.9960 - val_loss: 0.0115 - val_acc: 0.9960\n",
      "Epoch 99/100\n",
      "100/100 [==============================] - 258s 3s/step - loss: 0.0064 - acc: 0.9985 - val_loss: 0.0239 - val_acc: 0.9950\n",
      "Epoch 100/100\n",
      "100/100 [==============================] - 225s 2s/step - loss: 0.0047 - acc: 0.9995 - val_loss: 0.0101 - val_acc: 0.9960\n"
     ]
    }
   ],
   "source": [
    "# Fit model \n",
    "history = model.fit_generator(\n",
    "        train_generator,\n",
    "        steps_per_epoch=100,\n",
    "        epochs=100,\n",
    "        validation_data=validation_generator,\n",
    "        validation_steps=50)"
   ]
  },
  {
   "cell_type": "code",
   "execution_count": 13,
   "metadata": {},
   "outputs": [],
   "source": [
    "# Saving the model\n",
    "\n",
    "model.save('Pneumonia_Detection_using_ann.h5')"
   ]
  },
  {
   "cell_type": "code",
   "execution_count": 14,
   "metadata": {},
   "outputs": [
    {
     "data": {
      "image/png": "[encoded data removed]",
      "text/plain": [
       "<Figure size 432x288 with 1 Axes>"
      ]
     },
     "metadata": {
      "needs_background": "light"
     },
     "output_type": "display_data"
    },
    {
     "data": {
      "image/png": "[encoded data removed]",
      "text/plain": [
       "<Figure size 432x288 with 1 Axes>"
      ]
     },
     "metadata": {
      "needs_background": "light"
     },
     "output_type": "display_data"
    }
   ],
   "source": [
    "# Displaying curves of loss and accuracy during training\n",
    "\n",
    "import matplotlib.pyplot as plt\n",
    "\n",
    "acc = history.history['acc']\n",
    "val_acc = history.history['val_acc']\n",
    "loss = history.history['loss']\n",
    "val_loss = history.history['val_loss']\n",
    "epochs = range(1, len(acc) + 1)\n",
    "plt.plot(epochs, acc, 'bo', label='Training acc')\n",
    "plt.plot(epochs, val_acc, 'b', label='Validation acc')\n",
    "plt.title('Training and validation accuracy')\n",
    "plt.legend()\n",
    "plt.figure()\n",
    "plt.plot(epochs, loss, 'bo', label='Training loss')\n",
    "plt.plot(epochs, val_loss, 'b', label='Validation loss')\n",
    "plt.title('Training and validation loss')\n",
    "plt.legend()\n",
    "plt.show()"
   ]
  },
  {
   "cell_type": "code",
   "execution_count": null,
   "metadata": {},
   "outputs": [],
   "source": []
  }
 ],
 "metadata": {
  "kernelspec": {
   "display_name": "Python 3",
   "language": "python",
   "name": "python3"
  },
  "language_info": {
   "codemirror_mode": {
    "name": "ipython",
    "version": 3
   },
   "file_extension": ".py",
   "mimetype": "text/x-python",
   "name": "python",
   "nbconvert_exporter": "python",
   "pygments_lexer": "ipython3",
   "version": "3.8.8"
  }
 },
 "nbformat": 4,
 "nbformat_minor": 2
}
